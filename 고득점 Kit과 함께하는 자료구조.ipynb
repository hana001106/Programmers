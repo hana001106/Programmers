{
 "cells": [
  {
   "cell_type": "markdown",
   "id": "dbc77b49",
   "metadata": {},
   "source": [
    "해시: 완주하지 못한 선수"
   ]
  },
  {
   "cell_type": "code",
   "execution_count": 4,
   "id": "374a1cfb",
   "metadata": {},
   "outputs": [],
   "source": [
    "def solution(participant, completion):\n",
    "    answer = ''\n",
    "    d = {}\n",
    "    for p in participant:\n",
    "        if p not in d.keys():\n",
    "            d[p] = 1\n",
    "        else:\n",
    "            d[p] += 1\n",
    "    for c in completion:\n",
    "        d[c] -= 1\n",
    "    for k, v in d.items():\n",
    "        if v != 0:\n",
    "            answer = k\n",
    "    return answer"
   ]
  },
  {
   "cell_type": "markdown",
   "id": "73ca1e48",
   "metadata": {},
   "source": [
    "완전탐색: 최소직사각형"
   ]
  },
  {
   "cell_type": "code",
   "execution_count": 2,
   "id": "05aa0c07",
   "metadata": {},
   "outputs": [],
   "source": [
    "def solution(sizes):\n",
    "    answer = 0\n",
    "    w = 0\n",
    "    h = 0\n",
    "    for s in sizes:\n",
    "        if s[0] > s[1]:\n",
    "            if s[0] > w:\n",
    "                w = s[0]\n",
    "            if s[1] > h:\n",
    "                h = s[1]\n",
    "        else:\n",
    "            if s[1] > w:\n",
    "                w = s[1]\n",
    "            if s[0] > h:\n",
    "                h = s[0]\n",
    "    answer = w*h\n",
    "    return answer"
   ]
  },
  {
   "cell_type": "markdown",
   "id": "15ae9326",
   "metadata": {},
   "source": [
    "정렬: K번째 수"
   ]
  },
  {
   "cell_type": "code",
   "execution_count": 3,
   "id": "7ae062b2",
   "metadata": {},
   "outputs": [],
   "source": [
    "def solution(array, commands):\n",
    "    answer = []\n",
    "    for cmd in commands:\n",
    "        new = array[cmd[0]-1:cmd[1]]\n",
    "        new.sort()\n",
    "        answer.append(new[cmd[2]-1])\n",
    "    return answer"
   ]
  },
  {
   "cell_type": "markdown",
   "id": "f1b259cf",
   "metadata": {},
   "source": [
    "스택/큐: 같은 숫자는 싫어"
   ]
  },
  {
   "cell_type": "code",
   "execution_count": 5,
   "id": "0a157562",
   "metadata": {},
   "outputs": [],
   "source": [
    "def solution(arr):\n",
    "    answer = []\n",
    "    answer.append(arr[0])\n",
    "    for i in arr:\n",
    "        if i == answer[-1]:\n",
    "            continue\n",
    "        else:\n",
    "            answer.append(i)\n",
    "    return answer"
   ]
  },
  {
   "cell_type": "markdown",
   "id": "8c7d773b",
   "metadata": {},
   "source": [
    "힙: 더 맵게"
   ]
  },
  {
   "cell_type": "code",
   "execution_count": 6,
   "id": "85d5ccf0",
   "metadata": {},
   "outputs": [],
   "source": [
    "import heapq\n",
    "def solution(scoville, K):\n",
    "    answer = 0\n",
    "    heapq.heapify(scoville)\n",
    "    while scoville[0] < K:\n",
    "        new = heapq.heappop(scoville) + 2*heapq.heappop(scoville)\n",
    "        heapq.heappush(scoville, new)\n",
    "        answer += 1\n",
    "        if len(scoville) == 1 and scoville[0] < K:\n",
    "            return -1\n",
    "    return answer"
   ]
  },
  {
   "cell_type": "markdown",
   "id": "4bc0ab16",
   "metadata": {},
   "source": [
    "DFS/BFS: 타겟 넘버"
   ]
  },
  {
   "cell_type": "code",
   "execution_count": 1,
   "id": "fafb216e",
   "metadata": {},
   "outputs": [],
   "source": [
    "def solution(numbers, target):\n",
    "    leaves = [0]          # 모든 계산 결과를 담자      \n",
    "    count = 0 \n",
    "\n",
    "    for num in numbers : \n",
    "        temp = []\n",
    "\t\n",
    "        # 자손 노드 \n",
    "        for leaf in leaves : \n",
    "            temp.append(leaf + num)    # 더하는 경우 \n",
    "            temp.append(leaf - num)    # 빼는 경우 \n",
    "\n",
    "        leaves = temp \n",
    "\n",
    "  # 모든 경우의 수 계산 후 target과 같은지 확인 \n",
    "    for leaf in leaves : \n",
    "        if leaf == target : \n",
    "            count += 1\n",
    "    return count"
   ]
  },
  {
   "cell_type": "markdown",
   "id": "e2f4ecb2",
   "metadata": {},
   "source": [
    "Greedy: 체육복"
   ]
  },
  {
   "cell_type": "code",
   "execution_count": 2,
   "id": "ff950af0",
   "metadata": {},
   "outputs": [],
   "source": [
    "def solution(n, lost, reserve):\n",
    "    answer = 0\n",
    "    d = {}\n",
    "    for i in range(1, n+1):\n",
    "        d[i] = 1\n",
    "    for l in lost:\n",
    "        d[l] -= 1\n",
    "    for r in reserve:\n",
    "        d[r] += 1\n",
    "    for k, v in d.items():\n",
    "        if v == 0:\n",
    "            if k != 1 and d[k-1] == 2:\n",
    "                d[k] = 1\n",
    "                d[k-1] = 1\n",
    "            elif k!= n and d[k+1] == 2:\n",
    "                d[k] = 1\n",
    "                d[k+1] = 1\n",
    "    for v in d.values():\n",
    "        if v >= 1:\n",
    "            answer += 1\n",
    "    return answer"
   ]
  },
  {
   "cell_type": "code",
   "execution_count": null,
   "id": "8b0a7296",
   "metadata": {},
   "outputs": [],
   "source": []
  }
 ],
 "metadata": {
  "kernelspec": {
   "display_name": "Python 3 (ipykernel)",
   "language": "python",
   "name": "python3"
  },
  "language_info": {
   "codemirror_mode": {
    "name": "ipython",
    "version": 3
   },
   "file_extension": ".py",
   "mimetype": "text/x-python",
   "name": "python",
   "nbconvert_exporter": "python",
   "pygments_lexer": "ipython3",
   "version": "3.9.16"
  }
 },
 "nbformat": 4,
 "nbformat_minor": 5
}
