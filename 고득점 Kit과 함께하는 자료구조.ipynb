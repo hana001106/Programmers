{
 "cells": [
  {
   "cell_type": "markdown",
   "id": "f90b7244",
   "metadata": {},
   "source": [
    "해시: 완주하지 못한 선수"
   ]
  },
  {
   "cell_type": "code",
   "execution_count": 4,
   "id": "719a093c",
   "metadata": {},
   "outputs": [],
   "source": [
    "def solution(participant, completion):\n",
    "    answer = ''\n",
    "    d = {}\n",
    "    for p in participant:\n",
    "        if p not in d.keys():\n",
    "            d[p] = 1\n",
    "        else:\n",
    "            d[p] += 1\n",
    "    for c in completion:\n",
    "        d[c] -= 1\n",
    "    for k, v in d.items():\n",
    "        if v != 0:\n",
    "            answer = k\n",
    "    return answer"
   ]
  },
  {
   "cell_type": "markdown",
   "id": "224292d7",
   "metadata": {},
   "source": [
    "완전탐색: 최소직사각형"
   ]
  },
  {
   "cell_type": "code",
   "execution_count": 2,
   "id": "8c961b28",
   "metadata": {},
   "outputs": [],
   "source": [
    "def solution(sizes):\n",
    "    answer = 0\n",
    "    w = 0\n",
    "    h = 0\n",
    "    for s in sizes:\n",
    "        if s[0] > s[1]:\n",
    "            if s[0] > w:\n",
    "                w = s[0]\n",
    "            if s[1] > h:\n",
    "                h = s[1]\n",
    "        else:\n",
    "            if s[1] > w:\n",
    "                w = s[1]\n",
    "            if s[0] > h:\n",
    "                h = s[0]\n",
    "    answer = w*h\n",
    "    return answer"
   ]
  },
  {
   "cell_type": "markdown",
   "id": "d8e58055",
   "metadata": {},
   "source": [
    "정렬: K번째 수"
   ]
  },
  {
   "cell_type": "code",
   "execution_count": 3,
   "id": "0ad2820d",
   "metadata": {},
   "outputs": [],
   "source": [
    "def solution(array, commands):\n",
    "    answer = []\n",
    "    for cmd in commands:\n",
    "        new = array[cmd[0]-1:cmd[1]]\n",
    "        new.sort()\n",
    "        answer.append(new[cmd[2]-1])\n",
    "    return answer"
   ]
  },
  {
   "cell_type": "markdown",
   "id": "265704a5",
   "metadata": {},
   "source": [
    "스택/큐: 같은 숫자는 싫어"
   ]
  },
  {
   "cell_type": "code",
   "execution_count": 5,
   "id": "bb589f49",
   "metadata": {},
   "outputs": [],
   "source": [
    "def solution(arr):\n",
    "    answer = []\n",
    "    answer.append(arr[0])\n",
    "    for i in arr:\n",
    "        if i == answer[-1]:\n",
    "            continue\n",
    "        else:\n",
    "            answer.append(i)\n",
    "    return answer"
   ]
  },
  {
   "cell_type": "markdown",
   "id": "39525fd5",
   "metadata": {},
   "source": [
    "힙: 더 맵게"
   ]
  },
  {
   "cell_type": "code",
   "execution_count": 6,
   "id": "d504c896",
   "metadata": {},
   "outputs": [],
   "source": [
    "import heapq\n",
    "def solution(scoville, K):\n",
    "    answer = 0\n",
    "    heapq.heapify(scoville)\n",
    "    while scoville[0] < K:\n",
    "        new = heapq.heappop(scoville) + 2*heapq.heappop(scoville)\n",
    "        heapq.heappush(scoville, new)\n",
    "        answer += 1\n",
    "        if len(scoville) == 1 and scoville[0] < K:\n",
    "            return -1\n",
    "    return answer"
   ]
  },
  {
   "cell_type": "code",
   "execution_count": null,
   "id": "d9dda817",
   "metadata": {},
   "outputs": [],
   "source": []
  }
 ],
 "metadata": {
  "kernelspec": {
   "display_name": "Python 3 (ipykernel)",
   "language": "python",
   "name": "python3"
  },
  "language_info": {
   "codemirror_mode": {
    "name": "ipython",
    "version": 3
   },
   "file_extension": ".py",
   "mimetype": "text/x-python",
   "name": "python",
   "nbconvert_exporter": "python",
   "pygments_lexer": "ipython3",
   "version": "3.9.16"
  }
 },
 "nbformat": 4,
 "nbformat_minor": 5
}
